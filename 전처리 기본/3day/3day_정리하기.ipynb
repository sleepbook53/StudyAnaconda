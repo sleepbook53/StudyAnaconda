{
 "cells": [
  {
   "cell_type": "markdown",
   "id": "4fd81dc5",
   "metadata": {},
   "source": [
    "# 3day 정리 - 빈도 및 교차 데이터 생성"
   ]
  },
  {
   "cell_type": "markdown",
   "id": "64dc2b66",
   "metadata": {},
   "source": [
    "## tips 데이터셋 읽어들이기"
   ]
  }
 ],
 "metadata": {
  "kernelspec": {
   "display_name": "Python 3 (ipykernel)",
   "language": "python",
   "name": "python3"
  },
  "language_info": {
   "codemirror_mode": {
    "name": "ipython",
    "version": 3
   },
   "file_extension": ".py",
   "mimetype": "text/x-python",
   "name": "python",
   "nbconvert_exporter": "python",
   "pygments_lexer": "ipython3",
   "version": "3.9.7"
  }
 },
 "nbformat": 4,
 "nbformat_minor": 5
}
