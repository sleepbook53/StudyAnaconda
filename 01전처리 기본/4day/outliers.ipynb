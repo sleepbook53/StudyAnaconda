{
 "cells": [
  {
   "cell_type": "code",
   "execution_count": null,
   "id": "70215b14",
   "metadata": {},
   "outputs": [],
   "source": [
    "import numpy as np\n",
    "\n",
    "def outliers_iqr3(dframe,data) :\n",
    "    \n",
    "    #q1, q3값 확인\n",
    "    #np.percentil(): 25 %와 75% 시점의 데이터값 알려줌(return)\n",
    "    q1, q3 =np.percentile(data,[25,75])\n",
    "    print(q1)\n",
    "    print(q3)\n",
    "    \n",
    "    #iqr 값 계산하기\n",
    "    iqr = q3-q1\n",
    "    print(iqr)\n",
    "    \n",
    "    #최솟값/최댓값\n",
    "    upper_bound = q3 + (iqr *1.5)\n",
    "    lower_bound = q1 - (iqr*1.5)\n",
    "    \n",
    "    #나이 데이터에서 이상치 값 조회\n",
    "    df_temp =dframe[(data< lower_bound)\n",
    "                             | (data > upper_bound)]\n",
    "    \n",
    "    print(len(df_temp))\n",
    "    print(df_temp)"
   ]
  }
 ],
 "metadata": {
  "kernelspec": {
   "display_name": "Python 3 (ipykernel)",
   "language": "python",
   "name": "python3"
  },
  "language_info": {
   "codemirror_mode": {
    "name": "ipython",
    "version": 3
   },
   "file_extension": ".py",
   "mimetype": "text/x-python",
   "name": "python",
   "nbconvert_exporter": "python",
   "pygments_lexer": "ipython3",
   "version": "3.9.7"
  }
 },
 "nbformat": 4,
 "nbformat_minor": 5
}
