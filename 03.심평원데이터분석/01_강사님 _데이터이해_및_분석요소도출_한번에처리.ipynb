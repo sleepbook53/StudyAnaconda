{
 "cells": [
  {
   "cell_type": "code",
   "execution_count": 3,
   "id": "ba456fbb",
   "metadata": {},
   "outputs": [],
   "source": [
    "import pandas as pd"
   ]
  },
  {
   "cell_type": "code",
   "execution_count": 13,
   "id": "fb6590c3",
   "metadata": {},
   "outputs": [],
   "source": [
    "# 4개 데이터 기준값\n",
    "nm_list = [\"20\", \"30\", \"40\", \"53\"]\n",
    "# Excel 시트 이름           \n",
    "sheet_list = [\"20table_명세서일반내역\", \"30table_진료내역\", \n",
    "              \"40table_상병\", \"53table_처방전상세내역\"]\n",
    "# 4개 데이터셋 파일을 읽어들인 데이터프레임을 저장할 딕셔너리\n",
    "df_dict = {}\n",
    "\n",
    "# 정의서에서 4개 시트의 영문(변수명)/한글(표준한글컬럼명) 컬럼명을\n",
    "# 데이터프레임으로 읽어들인 후 저장할 딕셔너리\n",
    "df_col_dict = {}\n",
    "\n",
    "# 데이터셋 4개에 대하여 각각 수행\n",
    "for i in range(0, len(nm_list)) :\n",
    "    # 데이터셋 4개 읽어 들이기 : 원본 데이터프레임\n",
    "    df_dict[nm_list[i]] = pd.read_csv(\"./files_org/SAMPLE_DB_{}TABLE_2013.txt\".format(nm_list[i]), \n",
    "                                      sep = \",\")\n",
    "    \n",
    "    # 4개 시트의 영문(변수명)/한글(표준한글컬럼명) 컬럼명 데이터프레임으로 읽어 들이기\n",
    "    df_col_dict[nm_list[i]] = pd.read_excel(\"./files_org/표본자료 변수 테이블(2012-2013).xlsx\", \n",
    "                                            sheet_name=sheet_list[i], usecols='A, D') \n",
    "    \n",
    "    # 깨끗한 딕셔너리 : 최종 컬럼명 변경시 rename()에 사용할 완전한 딕셔너리를 저장\n",
    "    new_dict = {}\n",
    "    \n",
    "    # 완전한 딕셔너리 만들기\n",
    "    for j in range(0, len(df_col_dict[nm_list[i]])) :\n",
    "        new_dict[df_col_dict[nm_list[i]].to_dict('records')[j][\"변수명\"]] = \\\n",
    "                    df_col_dict[nm_list[i]].to_dict('records')[j][\"표준한글컬럼명\"]\n",
    "        \n",
    "        \n",
    "    \n",
    "    # 한글 컬럼명으로 변환 후 / 파일로 저장하기\n",
    "    df_dict[nm_list[i]].rename(columns = \\ print(new_dict[df_col_dict[nm_list[i]].to_dict('records')[j])\n",
    "                               new_dict).to_excel(\"./files_new2/df_kor_{}.xlsx\".format(sheet_list[i]), \n",
    "                                                  index=False) "
   ]
  },
  {
   "cell_type": "code",
   "execution_count": null,
   "id": "95c514fe",
   "metadata": {},
   "outputs": [],
   "source": []
  }
 ],
 "metadata": {
  "kernelspec": {
   "display_name": "Python 3 (ipykernel)",
   "language": "python",
   "name": "python3"
  },
  "language_info": {
   "codemirror_mode": {
    "name": "ipython",
    "version": 3
   },
   "file_extension": ".py",
   "mimetype": "text/x-python",
   "name": "python",
   "nbconvert_exporter": "python",
   "pygments_lexer": "ipython3",
   "version": "3.9.7"
  }
 },
 "nbformat": 4,
 "nbformat_minor": 5
}
