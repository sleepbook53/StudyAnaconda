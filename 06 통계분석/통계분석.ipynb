{
 "cells": [
  {
   "cell_type": "code",
   "execution_count": 3,
   "id": "ecdb3873",
   "metadata": {},
   "outputs": [],
   "source": [
    "#사용되는 라이브러리\n",
    "#scipy : t검정에 사용\n",
    "\n",
    "from scipy import stats\n",
    "import numpy as np"
   ]
  },
  {
   "cell_type": "code",
   "execution_count": 12,
   "id": "1db655d1",
   "metadata": {},
   "outputs": [],
   "source": [
    "#학생 키에 대한리스트 생성하기\n",
    "height_list = np.array([169, 167, 175, 166, 162, 180, 172\n",
    "                       , 162, 173, 162, 181, 175, 181, 181\n",
    "                       , 162, 165, 172, 176, 167, 165])"
   ]
  },
  {
   "cell_type": "markdown",
   "id": "35e8ea6c",
   "metadata": {},
   "source": [
    "### t-검정"
   ]
  },
  {
   "cell_type": "code",
   "execution_count": 13,
   "id": "dc2638b1",
   "metadata": {},
   "outputs": [],
   "source": [
    "tTestResult = stats.ttest_1samp(height_list,  170)"
   ]
  },
  {
   "cell_type": "code",
   "execution_count": 14,
   "id": "65fff79d",
   "metadata": {},
   "outputs": [
    {
     "data": {
      "text/plain": [
       "Ttest_1sampResult(statistic=0.42270173526659166, pvalue=0.6772582597305596)"
      ]
     },
     "execution_count": 14,
     "metadata": {},
     "output_type": "execute_result"
    }
   ],
   "source": [
    "tTestResult\n",
    "#statistic : 검정 통계량\n",
    "#pvalue(p-value) = 유의수준\n",
    "#170값 : 귀무가설에서 채택한 값\n",
    "#      \"집단의 키 평균은 170이다\"\n",
    "\n",
    "#대립가설 : 집단의 키 평균은 170이 아니야\n",
    "#t- 검정의 목적 : 대립가설이 참인지 확인하는 것\n",
    "#확인은 => p-value<0.05채택(글로벌스탠다드)\n",
    "           p-value>=0.05 기각\n",
    "#채택과 기각은 대립가설을 기준으로 함"
   ]
  },
  {
   "cell_type": "code",
   "execution_count": 15,
   "id": "b0e03e6a",
   "metadata": {},
   "outputs": [
    {
     "name": "stdout",
     "output_type": "stream",
     "text": [
      "t검정통계량 = 0.423, p-value = 0.677\n"
     ]
    }
   ],
   "source": [
    "print(\"t검정통계량 = %.3f, p-value = %.3f\" %(tTestResult))"
   ]
  },
  {
   "cell_type": "markdown",
   "id": "41a19063",
   "metadata": {},
   "source": [
    "해석 1\n",
    "statistic = 검정통계량 = 정확도 <br>\n",
    "pvalue(p-value) = 유의수준 = 오차\n",
    "\n",
    "정확도 + 오차 =1\n",
    "\n",
    "해석2\n",
    "\n",
    "해당집단이 키 170이라는 귀무가설에 대해<br>\n",
    "검정 통계량 42.3% , p 값이 0.677%으로<br>\n",
    "유의수준이 표준편차±2.5를 상회하는 수치임으로<br>\n",
    "해당 가설의 기무가설은 기각됨을 알 수 있다<br>\n",
    "따라서 해당 집단의 키 평균은 170이 아님을 알 수 있다\n"
   ]
  },
  {
   "cell_type": "markdown",
   "id": "eb0be926",
   "metadata": {},
   "source": [
    "---"
   ]
  },
  {
   "cell_type": "markdown",
   "id": "31728450",
   "metadata": {},
   "source": [
    "## 두집단"
   ]
  },
  {
   "cell_type": "code",
   "execution_count": null,
   "id": "2de99f27",
   "metadata": {},
   "outputs": [],
   "source": [
    "import numpy as np\n",
    "from scipy import stats"
   ]
  },
  {
   "cell_type": "code",
   "execution_count": 26,
   "id": "32d94de8",
   "metadata": {},
   "outputs": [
    {
     "data": {
      "text/plain": [
       "Ttest_indResult(statistic=-1.8253194633881713, pvalue=0.07582039848129221)"
      ]
     },
     "execution_count": 26,
     "metadata": {},
     "output_type": "execute_result"
    }
   ],
   "source": [
    "group1Heights = np.array([162, 168, 169, 165, 166, 168\n",
    "                          , 162, 172, 157, 173, 158, 169\n",
    "                          , 164, 170, 163, 175, 177, 162\n",
    "                         , 175, 177])\n",
    "group2Heights = np.array([180, 181, 163, 164, 174, 169\n",
    "                           , 164, 172, 162, 171, 180, 168\n",
    "                           , 164, 169, 178, 177,167, 179\n",
    "                           , 172, 169])\n",
    "\n",
    "#두집단간 평균비교\n",
    "tTestResult = stats.ttest_ind(group1Heights, group2Heights)\n",
    "tTestResult"
   ]
  },
  {
   "cell_type": "code",
   "execution_count": 35,
   "id": "59735263",
   "metadata": {},
   "outputs": [
    {
     "data": {
      "text/plain": [
       "Ttest_relResult(statistic=2.009126013353649, pvalue=0.05976259236283378)"
      ]
     },
     "execution_count": 35,
     "metadata": {},
     "output_type": "execute_result"
    }
   ],
   "source": [
    "beforeWeights =np.array([80, 82, 76, 82, 73, 77\n",
    "                       , 78, 61, 81, 80, 70, 60, 83\n",
    "                       , 89, 84, 85, 81, 67, 60])\n",
    "\n",
    "#20개의 랜덤값 생성하기\n",
    "temp_list = []\n",
    "for i in beforeWeights :\n",
    "    #랜덤한 가중치부여\n",
    "    temp_list.append( i * np.random.normal(0.99, 0.02) )\n",
    "\n",
    "afterWeights = np.array(temp_list)\n",
    "\n",
    "tTestResult = stats.ttest_rel(beforeWeights, afterWeights)\n",
    "tTestResult"
   ]
  },
  {
   "cell_type": "code",
   "execution_count": null,
   "id": "9157ecb3",
   "metadata": {},
   "outputs": [],
   "source": []
  },
  {
   "cell_type": "code",
   "execution_count": null,
   "id": "016d29b8",
   "metadata": {},
   "outputs": [],
   "source": []
  },
  {
   "cell_type": "code",
   "execution_count": null,
   "id": "dc269319",
   "metadata": {},
   "outputs": [],
   "source": []
  },
  {
   "cell_type": "code",
   "execution_count": null,
   "id": "07429b6e",
   "metadata": {},
   "outputs": [],
   "source": []
  },
  {
   "cell_type": "code",
   "execution_count": null,
   "id": "1a8afb78",
   "metadata": {},
   "outputs": [],
   "source": []
  },
  {
   "cell_type": "code",
   "execution_count": null,
   "id": "ad6a7cc1",
   "metadata": {},
   "outputs": [],
   "source": []
  }
 ],
 "metadata": {
  "kernelspec": {
   "display_name": "Python 3 (ipykernel)",
   "language": "python",
   "name": "python3"
  },
  "language_info": {
   "codemirror_mode": {
    "name": "ipython",
    "version": 3
   },
   "file_extension": ".py",
   "mimetype": "text/x-python",
   "name": "python",
   "nbconvert_exporter": "python",
   "pygments_lexer": "ipython3",
   "version": "3.9.7"
  }
 },
 "nbformat": 4,
 "nbformat_minor": 5
}
